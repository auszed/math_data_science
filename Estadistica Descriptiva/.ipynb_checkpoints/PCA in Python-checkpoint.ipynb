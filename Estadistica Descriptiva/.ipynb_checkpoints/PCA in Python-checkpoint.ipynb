{
 "cells": [
  {
   "cell_type": "markdown",
   "id": "bb7d6b53-23f8-4edc-82cb-4c3068c5730f",
   "metadata": {},
   "source": [
    "# PCA in Python"
   ]
  },
  {
   "cell_type": "markdown",
   "id": "4dd1cb7e-b490-4970-b329-944bfaaa0622",
   "metadata": {},
   "source": [
    "### Objectives"
   ]
  },
  {
   "cell_type": "markdown",
   "id": "17e54c1f-6ecf-46a3-8768-7b1ebdfbdaf3",
   "metadata": {},
   "source": [
    "+ How to make up some data that we can apply PCA to.\n",
    "+ How to use the PCA() function from sklearn to do PCA.\n",
    "+ How to determine how much variation each principal component accounts for.\n",
    "+ How to draw a fancy PCA graph using matplotlib.\n",
    "+ How to examine the loading scores to determine what variables have the largest effect on the graph."
   ]
  },
  {
   "cell_type": "code",
   "execution_count": 3,
   "id": "9906adb1-54b4-426c-b010-3848b48c5973",
   "metadata": {},
   "outputs": [
    {
     "name": "stdout",
     "output_type": "stream",
     "text": [
      "Requirement already satisfied: matplotlib in c:\\users\\hanns\\anaconda3\\envs\\testing\\lib\\site-packages (3.5.1)\n",
      "Requirement already satisfied: cycler>=0.10 in c:\\users\\hanns\\anaconda3\\envs\\testing\\lib\\site-packages (from matplotlib) (0.11.0)\n",
      "Requirement already satisfied: kiwisolver>=1.0.1 in c:\\users\\hanns\\anaconda3\\envs\\testing\\lib\\site-packages (from matplotlib) (1.4.2)\n",
      "Requirement already satisfied: packaging>=20.0 in c:\\users\\hanns\\anaconda3\\envs\\testing\\lib\\site-packages (from matplotlib) (21.3)\n",
      "Requirement already satisfied: fonttools>=4.22.0 in c:\\users\\hanns\\anaconda3\\envs\\testing\\lib\\site-packages (from matplotlib) (4.32.0)\n",
      "Requirement already satisfied: numpy>=1.17 in c:\\users\\hanns\\anaconda3\\envs\\testing\\lib\\site-packages (from matplotlib) (1.22.3)\n",
      "Requirement already satisfied: pyparsing>=2.2.1 in c:\\users\\hanns\\anaconda3\\envs\\testing\\lib\\site-packages (from matplotlib) (3.0.4)\n",
      "Requirement already satisfied: python-dateutil>=2.7 in c:\\users\\hanns\\anaconda3\\envs\\testing\\lib\\site-packages (from matplotlib) (2.8.2)\n",
      "Requirement already satisfied: pillow>=6.2.0 in c:\\users\\hanns\\anaconda3\\envs\\testing\\lib\\site-packages (from matplotlib) (9.1.0)\n",
      "Requirement already satisfied: six>=1.5 in c:\\users\\hanns\\anaconda3\\envs\\testing\\lib\\site-packages (from python-dateutil>=2.7->matplotlib) (1.16.0)\n",
      "Requirement already satisfied: sklearn in c:\\users\\hanns\\anaconda3\\envs\\testing\\lib\\site-packages (0.0)\n",
      "Requirement already satisfied: scikit-learn in c:\\users\\hanns\\anaconda3\\envs\\testing\\lib\\site-packages (from sklearn) (1.0.2)\n",
      "Requirement already satisfied: numpy>=1.14.6 in c:\\users\\hanns\\anaconda3\\envs\\testing\\lib\\site-packages (from scikit-learn->sklearn) (1.22.3)\n",
      "Requirement already satisfied: joblib>=0.11 in c:\\users\\hanns\\anaconda3\\envs\\testing\\lib\\site-packages (from scikit-learn->sklearn) (1.1.0)\n",
      "Requirement already satisfied: threadpoolctl>=2.0.0 in c:\\users\\hanns\\anaconda3\\envs\\testing\\lib\\site-packages (from scikit-learn->sklearn) (3.1.0)\n",
      "Requirement already satisfied: scipy>=1.1.0 in c:\\users\\hanns\\anaconda3\\envs\\testing\\lib\\site-packages (from scikit-learn->sklearn) (1.8.0)\n"
     ]
    }
   ],
   "source": [
    "#Installling librarys\n",
    "!pip install matplotlib\n",
    "!pip install sklearn"
   ]
  },
  {
   "cell_type": "code",
   "execution_count": 5,
   "id": "73e1a4ab-b846-483f-b324-51a94dbfdf98",
   "metadata": {},
   "outputs": [],
   "source": [
    "import pandas as pd #Pandas, short for \"panel data\", makes it easy to manipulate data in Python.\n",
    "import numpy as np #numpy will allow us to generate random numbers and do other mathy things.\n",
    "import random as rd # The random package will be useful for generating an example dataset.\n",
    "#Note: Just like R, there are a few Python PCA functions to choose from. \n",
    "#The one in sklearn is the most commonly used that I know of.\n",
    "from sklearn.decomposition import PCA \n",
    "#The preprocessing package from sklearn gives us functions for scaling the data before performing PCA.\n",
    "from sklearn import preprocessing\n",
    "#Lastly, we'll import matplotlib so we can draw some fancy graphs.\n",
    "import matplotlib.pyplot as  plt"
   ]
  },
  {
   "cell_type": "markdown",
   "id": "0cb1fc04-4822-4db9-bc55-5a4b10a6f407",
   "metadata": {},
   "source": [
    "# Data Generation Code"
   ]
  },
  {
   "cell_type": "code",
   "execution_count": 45,
   "id": "f7b22ec2-0058-4af2-8488-9d043e1c4251",
   "metadata": {},
   "outputs": [],
   "source": [
    "#generate the random name genes in an array\n",
    "genes = ['gene' + str(i) for i in range (1, 101)]\n",
    "#genes"
   ]
  },
  {
   "cell_type": "code",
   "execution_count": 46,
   "id": "fa355f16-ef78-4ea9-92ac-ae33763a1b51",
   "metadata": {},
   "outputs": [],
   "source": [
    "#generate 5 values\n",
    "wt = ['wt' + str(i) for i in range (1, 6)]\n",
    "ko = ['ko' + str(i) for i in range (1, 6)]"
   ]
  },
  {
   "cell_type": "code",
   "execution_count": 47,
   "id": "e049885a-5015-46ea-b017-923f760db028",
   "metadata": {},
   "outputs": [
    {
     "data": {
      "text/html": [
       "<div>\n",
       "<style scoped>\n",
       "    .dataframe tbody tr th:only-of-type {\n",
       "        vertical-align: middle;\n",
       "    }\n",
       "\n",
       "    .dataframe tbody tr th {\n",
       "        vertical-align: top;\n",
       "    }\n",
       "\n",
       "    .dataframe thead th {\n",
       "        text-align: right;\n",
       "    }\n",
       "</style>\n",
       "<table border=\"1\" class=\"dataframe\">\n",
       "  <thead>\n",
       "    <tr style=\"text-align: right;\">\n",
       "      <th></th>\n",
       "      <th>wt1</th>\n",
       "      <th>wt2</th>\n",
       "      <th>wt3</th>\n",
       "      <th>wt4</th>\n",
       "      <th>wt5</th>\n",
       "      <th>ko1</th>\n",
       "      <th>ko2</th>\n",
       "      <th>ko3</th>\n",
       "      <th>ko4</th>\n",
       "      <th>ko5</th>\n",
       "    </tr>\n",
       "  </thead>\n",
       "  <tbody>\n",
       "    <tr>\n",
       "      <th>gene1</th>\n",
       "      <td>NaN</td>\n",
       "      <td>NaN</td>\n",
       "      <td>NaN</td>\n",
       "      <td>NaN</td>\n",
       "      <td>NaN</td>\n",
       "      <td>NaN</td>\n",
       "      <td>NaN</td>\n",
       "      <td>NaN</td>\n",
       "      <td>NaN</td>\n",
       "      <td>NaN</td>\n",
       "    </tr>\n",
       "    <tr>\n",
       "      <th>gene2</th>\n",
       "      <td>NaN</td>\n",
       "      <td>NaN</td>\n",
       "      <td>NaN</td>\n",
       "      <td>NaN</td>\n",
       "      <td>NaN</td>\n",
       "      <td>NaN</td>\n",
       "      <td>NaN</td>\n",
       "      <td>NaN</td>\n",
       "      <td>NaN</td>\n",
       "      <td>NaN</td>\n",
       "    </tr>\n",
       "    <tr>\n",
       "      <th>gene3</th>\n",
       "      <td>NaN</td>\n",
       "      <td>NaN</td>\n",
       "      <td>NaN</td>\n",
       "      <td>NaN</td>\n",
       "      <td>NaN</td>\n",
       "      <td>NaN</td>\n",
       "      <td>NaN</td>\n",
       "      <td>NaN</td>\n",
       "      <td>NaN</td>\n",
       "      <td>NaN</td>\n",
       "    </tr>\n",
       "    <tr>\n",
       "      <th>gene4</th>\n",
       "      <td>NaN</td>\n",
       "      <td>NaN</td>\n",
       "      <td>NaN</td>\n",
       "      <td>NaN</td>\n",
       "      <td>NaN</td>\n",
       "      <td>NaN</td>\n",
       "      <td>NaN</td>\n",
       "      <td>NaN</td>\n",
       "      <td>NaN</td>\n",
       "      <td>NaN</td>\n",
       "    </tr>\n",
       "    <tr>\n",
       "      <th>gene5</th>\n",
       "      <td>NaN</td>\n",
       "      <td>NaN</td>\n",
       "      <td>NaN</td>\n",
       "      <td>NaN</td>\n",
       "      <td>NaN</td>\n",
       "      <td>NaN</td>\n",
       "      <td>NaN</td>\n",
       "      <td>NaN</td>\n",
       "      <td>NaN</td>\n",
       "      <td>NaN</td>\n",
       "    </tr>\n",
       "  </tbody>\n",
       "</table>\n",
       "</div>"
      ],
      "text/plain": [
       "       wt1  wt2  wt3  wt4  wt5  ko1  ko2  ko3  ko4  ko5\n",
       "gene1  NaN  NaN  NaN  NaN  NaN  NaN  NaN  NaN  NaN  NaN\n",
       "gene2  NaN  NaN  NaN  NaN  NaN  NaN  NaN  NaN  NaN  NaN\n",
       "gene3  NaN  NaN  NaN  NaN  NaN  NaN  NaN  NaN  NaN  NaN\n",
       "gene4  NaN  NaN  NaN  NaN  NaN  NaN  NaN  NaN  NaN  NaN\n",
       "gene5  NaN  NaN  NaN  NaN  NaN  NaN  NaN  NaN  NaN  NaN"
      ]
     },
     "execution_count": 47,
     "metadata": {},
     "output_type": "execute_result"
    }
   ],
   "source": [
    "#usamos el * en *wt y *ko para separar las columnas\n",
    "data = pd.DataFrame(columns = [*wt, *ko], index = genes)\n",
    "data.head()"
   ]
  },
  {
   "cell_type": "code",
   "execution_count": 59,
   "id": "5d5c9d75-e3a2-44ae-bfc4-9a7392dc2275",
   "metadata": {},
   "outputs": [],
   "source": [
    "#para el array gene dentro de la tabla data en el row\n",
    "for gene in data.index:\n",
    "    data.loc[gene,'wt1':'wt5'] = np.random.poisson(lam=rd.randrange(10,1000), size=5)\n",
    "    data.loc[gene,'ko1':'ko5'] = np.random.poisson(lam=rd.randrange(10,1000), size=5)\n",
    "\n",
    "\n",
    "    #loc[] = Access a group of rows and columns by label(s) or a boolean array. in this case we change the value inside\n",
    "    #poisson = Draw samples from a Poisson distribution. // random.poisson(lam=1.0, size=None)"
   ]
  },
  {
   "cell_type": "code",
   "execution_count": 62,
   "id": "31b06960-437e-477e-9030-aa0341eddf8b",
   "metadata": {},
   "outputs": [
    {
     "data": {
      "text/html": [
       "<div>\n",
       "<style scoped>\n",
       "    .dataframe tbody tr th:only-of-type {\n",
       "        vertical-align: middle;\n",
       "    }\n",
       "\n",
       "    .dataframe tbody tr th {\n",
       "        vertical-align: top;\n",
       "    }\n",
       "\n",
       "    .dataframe thead th {\n",
       "        text-align: right;\n",
       "    }\n",
       "</style>\n",
       "<table border=\"1\" class=\"dataframe\">\n",
       "  <thead>\n",
       "    <tr style=\"text-align: right;\">\n",
       "      <th></th>\n",
       "      <th>wt1</th>\n",
       "      <th>wt2</th>\n",
       "      <th>wt3</th>\n",
       "      <th>wt4</th>\n",
       "      <th>wt5</th>\n",
       "      <th>ko1</th>\n",
       "      <th>ko2</th>\n",
       "      <th>ko3</th>\n",
       "      <th>ko4</th>\n",
       "      <th>ko5</th>\n",
       "    </tr>\n",
       "  </thead>\n",
       "  <tbody>\n",
       "    <tr>\n",
       "      <th>gene1</th>\n",
       "      <td>762</td>\n",
       "      <td>756</td>\n",
       "      <td>772</td>\n",
       "      <td>794</td>\n",
       "      <td>776</td>\n",
       "      <td>306</td>\n",
       "      <td>326</td>\n",
       "      <td>292</td>\n",
       "      <td>329</td>\n",
       "      <td>293</td>\n",
       "    </tr>\n",
       "    <tr>\n",
       "      <th>gene2</th>\n",
       "      <td>180</td>\n",
       "      <td>197</td>\n",
       "      <td>184</td>\n",
       "      <td>168</td>\n",
       "      <td>199</td>\n",
       "      <td>776</td>\n",
       "      <td>786</td>\n",
       "      <td>749</td>\n",
       "      <td>804</td>\n",
       "      <td>791</td>\n",
       "    </tr>\n",
       "    <tr>\n",
       "      <th>gene3</th>\n",
       "      <td>203</td>\n",
       "      <td>211</td>\n",
       "      <td>209</td>\n",
       "      <td>228</td>\n",
       "      <td>207</td>\n",
       "      <td>820</td>\n",
       "      <td>881</td>\n",
       "      <td>845</td>\n",
       "      <td>823</td>\n",
       "      <td>810</td>\n",
       "    </tr>\n",
       "    <tr>\n",
       "      <th>gene4</th>\n",
       "      <td>687</td>\n",
       "      <td>610</td>\n",
       "      <td>623</td>\n",
       "      <td>630</td>\n",
       "      <td>649</td>\n",
       "      <td>369</td>\n",
       "      <td>349</td>\n",
       "      <td>377</td>\n",
       "      <td>342</td>\n",
       "      <td>339</td>\n",
       "    </tr>\n",
       "    <tr>\n",
       "      <th>gene5</th>\n",
       "      <td>290</td>\n",
       "      <td>295</td>\n",
       "      <td>293</td>\n",
       "      <td>321</td>\n",
       "      <td>313</td>\n",
       "      <td>878</td>\n",
       "      <td>920</td>\n",
       "      <td>896</td>\n",
       "      <td>957</td>\n",
       "      <td>990</td>\n",
       "    </tr>\n",
       "  </tbody>\n",
       "</table>\n",
       "</div>"
      ],
      "text/plain": [
       "       wt1  wt2  wt3  wt4  wt5  ko1  ko2  ko3  ko4  ko5\n",
       "gene1  762  756  772  794  776  306  326  292  329  293\n",
       "gene2  180  197  184  168  199  776  786  749  804  791\n",
       "gene3  203  211  209  228  207  820  881  845  823  810\n",
       "gene4  687  610  623  630  649  369  349  377  342  339\n",
       "gene5  290  295  293  321  313  878  920  896  957  990"
      ]
     },
     "execution_count": 62,
     "metadata": {},
     "output_type": "execute_result"
    }
   ],
   "source": [
    "data.head()\n"
   ]
  },
  {
   "cell_type": "code",
   "execution_count": 63,
   "id": "99b3efe3-ea19-49f5-87ae-4e7b4bf466fd",
   "metadata": {},
   "outputs": [
    {
     "data": {
      "text/plain": [
       "(100, 10)"
      ]
     },
     "execution_count": 63,
     "metadata": {},
     "output_type": "execute_result"
    }
   ],
   "source": [
    "#give us the total of data\n",
    "data.shape"
   ]
  },
  {
   "cell_type": "markdown",
   "id": "b5fa2c36-b4a1-4be2-a072-4ba4987c071d",
   "metadata": {},
   "source": [
    "# Perform PCA on the data"
   ]
  },
  {
   "cell_type": "markdown",
   "id": "60e0572c-7c86-47b3-b795-66425ea3c154",
   "metadata": {},
   "source": [
    "Before we do PCA, we have to center and scale the data.\n",
    "After centering, the average value for each gene will be 0, and after scaling,\n",
    "the standard deviation for the values for each gene will be 1."
   ]
  },
  {
   "cell_type": "code",
   "execution_count": 66,
   "id": "25f84fc3-5898-4023-9c02-1aa375029705",
   "metadata": {},
   "outputs": [],
   "source": [
    "#preprocessing = from sklearn\n",
    "#scale() = here we scale the data\n",
    "#data.T = generate a transpose because we have the data in columns\n",
    "scaled_data = preprocessing.scale(data.T)"
   ]
  },
  {
   "cell_type": "markdown",
   "id": "7972198d-5b37-44cb-9f34-c735f57efbe2",
   "metadata": {},
   "source": [
    "@@@preprocessing.scale(data.T)@@@                                                                                                                           \n",
    "-One other note: This is just one way to use sklearn to center and scale the data so that the means for each gene are 0\n",
    " and the standard deviations for each gene are 1.  Alternatively, we could have used:\n",
    "        \"\"\"StandardScaler0.fit_transform(data.T)\"\"\"\n",
    "-his second method is more commonly sed for machine learning, and that's what slearn was designed to do."
   ]
  },
  {
   "cell_type": "markdown",
   "id": "5af09aac-9cd9-4f25-92dd-d8c2848adf73",
   "metadata": {},
   "source": [
    " we print the array after the convertion from columns to an array"
   ]
  },
  {
   "cell_type": "code",
   "execution_count": 68,
   "id": "665b4697-5db6-4ad9-a45e-79836d8330cf",
   "metadata": {},
   "outputs": [],
   "source": [
    "#scaled_data"
   ]
  },
  {
   "cell_type": "code",
   "execution_count": 69,
   "id": "a04de307-f5ab-472e-ac90-c85721f9ac8e",
   "metadata": {},
   "outputs": [],
   "source": [
    "pca = PCA() # create a PCA object\n",
    "pca.fit(scaled_data) # do the math for PCA get inside the scaled data\n",
    "pca_data = pca.transform(scaled_data) # get PCA coordinates for scaled_data ready to graph"
   ]
  },
  {
   "cell_type": "markdown",
   "id": "3cc23669-596c-4d82-9b30-f38628122399",
   "metadata": {},
   "source": [
    "# Draw a scree plot and a PCA plot"
   ]
  },
  {
   "cell_type": "code",
   "execution_count": 72,
   "id": "6863fa63-f1e2-43a9-870c-51c873fbf911",
   "metadata": {},
   "outputs": [],
   "source": [
    "#explained_variance_ratio_ = The first thing we do is calculate the percentage of variation that each principal component accounts for.\n",
    "per_var = np.round(pca.explained_variance_ratio_*100, decimals = 1)\n",
    "#Now we create labels for the scree plot. These are \"PC1\", “PC2\", etc (one label per principal component).\n",
    "#create one label for each PCA\n",
    "labels = ['PC' + str(x) for x in range(1, len(per_var) + 1)]                                      "
   ]
  },
  {
   "cell_type": "code",
   "execution_count": 74,
   "id": "3e86553b-283d-4746-91af-01a18eb497a6",
   "metadata": {},
   "outputs": [
    {
     "data": {
      "image/png": "[encoded data removed]",
      "text/plain": [
       "<Figure size 432x288 with 1 Axes>"
      ]
     },
     "metadata": {
      "needs_background": "light"
     },
     "output_type": "display_data"
    }
   ],
   "source": [
    "#draw the graph bar\n",
    "plt.bar(x=range(1, len(per_var)+1), height = per_var, tick_label = labels)\n",
    "plt.ylabel('percentage of explained variance')\n",
    "plt.xlabel('principal component')\n",
    "plt.title('Scree plot')\n",
    "plt.show()"
   ]
  },
  {
   "cell_type": "markdown",
   "id": "058ba162-ba87-420a-b87b-f1d723741be3",
   "metadata": {},
   "source": [
    "Almost all of the variation is along the first PC, so a 2-D graph, using PC1 and PC2, should do a good job representing the original data."
   ]
  },
  {
   "cell_type": "code",
   "execution_count": 75,
   "id": "67efc771-ed87-4446-a5af-b142dc4177a3",
   "metadata": {},
   "outputs": [],
   "source": [
    "#To draw a PCA plot, we'll first put the   new coordinates, created by pca.transform(scaled.data), into a nice matrix where the rows have sample \n",
    "#labels and the columns have PC labels.\n",
    "#the following code makes a fancy looking plot using PC1 and PC2\n",
    "#pca_data = scaled_data this we do it before\n",
    "pca_df = pd.DataFrame(pca_data, index = [*wt, *ko], columns = labels)"
   ]
  },
  {
   "cell_type": "code",
   "execution_count": 95,
   "id": "ae5b6ad3-0ec9-405b-a6e3-8e127ed3edc9",
   "metadata": {},
   "outputs": [
    {
     "data": {
      "image/png": "[encoded data removed]",
      "text/plain": [
       "<Figure size 432x288 with 1 Axes>"
      ]
     },
     "metadata": {
      "needs_background": "light"
     },
     "output_type": "display_data"
    }
   ],
   "source": [
    "#These commands draw a scatter plot   with a title and nice axis labels.\n",
    "plt.scatter(pca_df.PC1, pca_df.PC2)\n",
    "plt.title('PCA graph')\n",
    "plt.xlabel('PCA1 = {0}%'.format(per_var[0]))\n",
    "plt.ylabel('PCA2 = {0}%'.format(per_var[1]))\n",
    "\n",
    "\n",
    "#add sample name to each sample\n",
    "for sample in pca_df.index:\n",
    "    plt.annotate(sample, (pca_df.PC1.loc[sample], pca_df.PC2.loc[sample]))\n",
    "    \n",
    "#draw the graph\n",
    "plt.show()"
   ]
  },
  {
   "cell_type": "markdown",
   "id": "08279bc3-ad0a-4522-b949-dface34b989b",
   "metadata": {},
   "source": [
    "- The \"wt\" samples clustered on the left side, suggesting that they are correlated with each other.\n",
    "- The \"ko\" samples clustered on the right side, suggesting that they are correlated with each other.\n",
    "- And the separation of the two clusters along the x-axis suggests that \"wt\" samples are very different from “ko\" samples."
   ]
  },
  {
   "cell_type": "markdown",
   "id": "b7d3a94c-be2c-4175-b950-1420f6f40319",
   "metadata": {
    "tags": []
   },
   "source": [
    "# Determine which genes had the biggest influence on PC1"
   ]
  },
  {
   "cell_type": "markdown",
   "id": "aa611ce5-6d56-48e9-9212-efe58a8b7535",
   "metadata": {},
   "source": [
    "Lastly, let's look at the loading scores for PC1 to determine which genes had the  largest influence on separating the two clusters along the x-axis."
   ]
  },
  {
   "cell_type": "code",
   "execution_count": 99,
   "id": "ce33c866-5978-4f47-95a1-041a133f318d",
   "metadata": {},
   "outputs": [
    {
     "data": {
      "text/plain": [
       "array([-0.10508961,  0.10511446,  0.10514648, -0.10396884,  0.1047759 ,\n",
       "        0.10448833, -0.10474848, -0.10484034,  0.09103747, -0.10258837,\n",
       "       -0.10523972, -0.10284261, -0.10508553, -0.10430235,  0.10468442,\n",
       "        0.10448421, -0.10501007, -0.07642493, -0.10499378, -0.09787275,\n",
       "        0.10505921,  0.09379088, -0.10491823,  0.10402349,  0.10512771,\n",
       "       -0.10464859, -0.09948801, -0.10487997,  0.10456332,  0.10401147,\n",
       "        0.10509504,  0.10272019, -0.10444005, -0.10510617, -0.10294192,\n",
       "        0.09257956,  0.10355854, -0.1046935 , -0.10266917,  0.0981135 ,\n",
       "        0.10499553, -0.10391339,  0.09145284,  0.10527269, -0.09568482,\n",
       "        0.10463673, -0.10473811, -0.10358912, -0.10429885,  0.03047548,\n",
       "        0.1050615 ,  0.10182971, -0.10498049, -0.10512248,  0.1051776 ,\n",
       "       -0.10510935,  0.10496483,  0.09816788,  0.10411431,  0.10334395,\n",
       "       -0.10460095, -0.10491473,  0.10354157,  0.10510112,  0.09394596,\n",
       "        0.09650257, -0.01437327, -0.10444294, -0.10506922, -0.10115157,\n",
       "       -0.10519933,  0.104626  ,  0.10523812,  0.04578074,  0.10512605,\n",
       "        0.10497276, -0.09974992, -0.0461184 , -0.10500654, -0.1046204 ,\n",
       "       -0.08535187,  0.10523955,  0.10523839,  0.09007745,  0.0869993 ,\n",
       "       -0.1051723 ,  0.10451976,  0.10484908, -0.10458327, -0.09995304,\n",
       "        0.10254247, -0.10514001,  0.10140589,  0.10439335,  0.07801876,\n",
       "       -0.10443413, -0.10516842, -0.10273712,  0.10475772,  0.0039493 ])"
      ]
     },
     "execution_count": 99,
     "metadata": {},
     "output_type": "execute_result"
    }
   ],
   "source": [
    "pca.components_[0]"
   ]
  },
  {
   "cell_type": "code",
   "execution_count": 123,
   "id": "ae48ff7c-e425-4bbc-b119-4126921cf066",
   "metadata": {},
   "outputs": [],
   "source": [
    "#We'll start by creating a pandas \"Series\" object with the loading scores in PC1.\n",
    "\n",
    "## get the name of the top 10 measurements (genes) that contribute\n",
    "## most to pc1.\n",
    "## first, get the loading scores\n",
    "loading_scores = pd.Series(pca.components_[0])"
   ]
  },
  {
   "cell_type": "code",
   "execution_count": 111,
   "id": "487aa02a-d46b-4da4-801c-b8ba4b4869e3",
   "metadata": {},
   "outputs": [
    {
     "name": "stdout",
     "output_type": "stream",
     "text": [
      "43    0.105273\n",
      "10   -0.105240\n",
      "81    0.105240\n",
      "82    0.105238\n",
      "72    0.105238\n",
      "70   -0.105199\n",
      "54    0.105178\n",
      "85   -0.105172\n",
      "96   -0.105168\n",
      "2     0.105146\n",
      "dtype: float64\n"
     ]
    }
   ],
   "source": [
    "## now sort the loading scores based on their magnitude\n",
    "sorted_loading_screen = loading_scores.abs().sort_values(ascending=False)\n",
    "\n",
    "# get the names of the top 10 genes\n",
    "top_10_genes =  sorted_loading_screen[0:10].index.values\n",
    "\n",
    "## print the gene names and their scores (and +/- sign)\n",
    "print(loading_scores[top_10_genes])"
   ]
  }
 ],
 "metadata": {
  "kernelspec": {
   "display_name": "Python 3 (ipykernel)",
   "language": "python",
   "name": "python3"
  },
  "language_info": {
   "codemirror_mode": {
    "name": "ipython",
    "version": 3
   },
   "file_extension": ".py",
   "mimetype": "text/x-python",
   "name": "python",
   "nbconvert_exporter": "python",
   "pygments_lexer": "ipython3",
   "version": "3.9.7"
  }
 },
 "nbformat": 4,
 "nbformat_minor": 5
}
