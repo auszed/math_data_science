{
 "cells": [
  {
   "cell_type": "markdown",
   "id": "f0acce2f-7e23-4e3d-9f45-d5492d560189",
   "metadata": {},
   "source": [
    "# installing the librarys"
   ]
  },
  {
   "cell_type": "code",
   "execution_count": 7,
   "id": "98a141c5-e48e-4dff-af8a-872fafbb17d6",
   "metadata": {},
   "outputs": [
    {
     "name": "stdout",
     "output_type": "stream",
     "text": [
      "Requirement already satisfied: matplotlib in c:\\users\\hanns\\anaconda3\\envs\\testing\\lib\\site-packages (3.5.1)\n",
      "Requirement already satisfied: packaging>=20.0 in c:\\users\\hanns\\anaconda3\\envs\\testing\\lib\\site-packages (from matplotlib) (21.3)\n",
      "Requirement already satisfied: python-dateutil>=2.7 in c:\\users\\hanns\\anaconda3\\envs\\testing\\lib\\site-packages (from matplotlib) (2.8.2)\n",
      "Requirement already satisfied: pyparsing>=2.2.1 in c:\\users\\hanns\\anaconda3\\envs\\testing\\lib\\site-packages (from matplotlib) (3.0.4)\n",
      "Requirement already satisfied: cycler>=0.10 in c:\\users\\hanns\\anaconda3\\envs\\testing\\lib\\site-packages (from matplotlib) (0.11.0)\n",
      "Requirement already satisfied: numpy>=1.17 in c:\\users\\hanns\\anaconda3\\envs\\testing\\lib\\site-packages (from matplotlib) (1.22.3)\n",
      "Requirement already satisfied: fonttools>=4.22.0 in c:\\users\\hanns\\anaconda3\\envs\\testing\\lib\\site-packages (from matplotlib) (4.32.0)\n",
      "Requirement already satisfied: kiwisolver>=1.0.1 in c:\\users\\hanns\\anaconda3\\envs\\testing\\lib\\site-packages (from matplotlib) (1.4.2)\n",
      "Requirement already satisfied: pillow>=6.2.0 in c:\\users\\hanns\\anaconda3\\envs\\testing\\lib\\site-packages (from matplotlib) (9.1.0)\n",
      "Requirement already satisfied: six>=1.5 in c:\\users\\hanns\\anaconda3\\envs\\testing\\lib\\site-packages (from python-dateutil>=2.7->matplotlib) (1.16.0)\n"
     ]
    }
   ],
   "source": [
    "!pip install matplotlib\n"
   ]
  },
  {
   "cell_type": "code",
   "execution_count": 8,
   "id": "1ced8ca1-bce7-4316-8453-8612e6f59ca9",
   "metadata": {},
   "outputs": [
    {
     "name": "stdout",
     "output_type": "stream",
     "text": [
      "Collecting sklearn\n",
      "  Downloading sklearn-0.0.tar.gz (1.1 kB)\n",
      "Collecting scikit-learn\n",
      "  Downloading scikit_learn-1.0.2-cp39-cp39-win_amd64.whl (7.2 MB)\n",
      "Requirement already satisfied: numpy>=1.14.6 in c:\\users\\hanns\\anaconda3\\envs\\testing\\lib\\site-packages (from scikit-learn->sklearn) (1.22.3)\n",
      "Collecting joblib>=0.11\n",
      "  Downloading joblib-1.1.0-py2.py3-none-any.whl (306 kB)\n",
      "Collecting threadpoolctl>=2.0.0\n",
      "  Downloading threadpoolctl-3.1.0-py3-none-any.whl (14 kB)\n",
      "Collecting scipy>=1.1.0\n",
      "  Downloading scipy-1.8.0-cp39-cp39-win_amd64.whl (36.9 MB)\n",
      "Building wheels for collected packages: sklearn\n",
      "  Building wheel for sklearn (setup.py): started\n",
      "  Building wheel for sklearn (setup.py): finished with status 'done'\n",
      "  Created wheel for sklearn: filename=sklearn-0.0-py2.py3-none-any.whl size=1310 sha256=e876f312eb6ca88e272ccc3b2db93cea88d36084a15059c9d52626a7b9866b87\n",
      "  Stored in directory: c:\\users\\hanns\\appdata\\local\\pip\\cache\\wheels\\e4\\7b\\98\\b6466d71b8d738a0c547008b9eb39bf8676d1ff6ca4b22af1c\n",
      "Successfully built sklearn\n",
      "Installing collected packages: threadpoolctl, scipy, joblib, scikit-learn, sklearn\n",
      "Successfully installed joblib-1.1.0 scikit-learn-1.0.2 scipy-1.8.0 sklearn-0.0 threadpoolctl-3.1.0\n"
     ]
    }
   ],
   "source": [
    "!pip install sklearn"
   ]
  },
  {
   "cell_type": "markdown",
   "id": "a7108c05-05f1-4771-a7ce-266e574b0aba",
   "metadata": {},
   "source": [
    "# importing the data"
   ]
  },
  {
   "cell_type": "code",
   "execution_count": 4,
   "id": "623d8763-6c48-4ba6-8daf-110a7a6014a7",
   "metadata": {},
   "outputs": [],
   "source": [
    "import timeit as tm\n",
    "import numpy as np\n",
    "import pandas as pd\n",
    "import matplotlib.pyplot as plt\n",
    "#libery of AI\n",
    "from sklearn import datasets, linear_model"
   ]
  },
  {
   "cell_type": "code",
   "execution_count": 5,
   "id": "ca3ec27a-d1be-4dd5-b602-c4d876fd084c",
   "metadata": {},
   "outputs": [],
   "source": [
    "traing_data = pd.read_csv('train.csv')"
   ]
  },
  {
   "cell_type": "code",
   "execution_count": 6,
   "id": "71b0ebc3-7b03-4509-84bd-3159dae97fe5",
   "metadata": {},
   "outputs": [
    {
     "data": {
      "text/html": [
       "<div>\n",
       "<style scoped>\n",
       "    .dataframe tbody tr th:only-of-type {\n",
       "        vertical-align: middle;\n",
       "    }\n",
       "\n",
       "    .dataframe tbody tr th {\n",
       "        vertical-align: top;\n",
       "    }\n",
       "\n",
       "    .dataframe thead th {\n",
       "        text-align: right;\n",
       "    }\n",
       "</style>\n",
       "<table border=\"1\" class=\"dataframe\">\n",
       "  <thead>\n",
       "    <tr style=\"text-align: right;\">\n",
       "      <th></th>\n",
       "      <th>Id</th>\n",
       "      <th>MSSubClass</th>\n",
       "      <th>MSZoning</th>\n",
       "      <th>LotFrontage</th>\n",
       "      <th>LotArea</th>\n",
       "      <th>Street</th>\n",
       "      <th>Alley</th>\n",
       "      <th>LotShape</th>\n",
       "      <th>LandContour</th>\n",
       "      <th>Utilities</th>\n",
       "      <th>...</th>\n",
       "      <th>PoolArea</th>\n",
       "      <th>PoolQC</th>\n",
       "      <th>Fence</th>\n",
       "      <th>MiscFeature</th>\n",
       "      <th>MiscVal</th>\n",
       "      <th>MoSold</th>\n",
       "      <th>YrSold</th>\n",
       "      <th>SaleType</th>\n",
       "      <th>SaleCondition</th>\n",
       "      <th>SalePrice</th>\n",
       "    </tr>\n",
       "  </thead>\n",
       "  <tbody>\n",
       "    <tr>\n",
       "      <th>0</th>\n",
       "      <td>1</td>\n",
       "      <td>60</td>\n",
       "      <td>RL</td>\n",
       "      <td>65.0</td>\n",
       "      <td>8450</td>\n",
       "      <td>Pave</td>\n",
       "      <td>NaN</td>\n",
       "      <td>Reg</td>\n",
       "      <td>Lvl</td>\n",
       "      <td>AllPub</td>\n",
       "      <td>...</td>\n",
       "      <td>0</td>\n",
       "      <td>NaN</td>\n",
       "      <td>NaN</td>\n",
       "      <td>NaN</td>\n",
       "      <td>0</td>\n",
       "      <td>2</td>\n",
       "      <td>2008</td>\n",
       "      <td>WD</td>\n",
       "      <td>Normal</td>\n",
       "      <td>208500</td>\n",
       "    </tr>\n",
       "    <tr>\n",
       "      <th>1</th>\n",
       "      <td>2</td>\n",
       "      <td>20</td>\n",
       "      <td>RL</td>\n",
       "      <td>80.0</td>\n",
       "      <td>9600</td>\n",
       "      <td>Pave</td>\n",
       "      <td>NaN</td>\n",
       "      <td>Reg</td>\n",
       "      <td>Lvl</td>\n",
       "      <td>AllPub</td>\n",
       "      <td>...</td>\n",
       "      <td>0</td>\n",
       "      <td>NaN</td>\n",
       "      <td>NaN</td>\n",
       "      <td>NaN</td>\n",
       "      <td>0</td>\n",
       "      <td>5</td>\n",
       "      <td>2007</td>\n",
       "      <td>WD</td>\n",
       "      <td>Normal</td>\n",
       "      <td>181500</td>\n",
       "    </tr>\n",
       "    <tr>\n",
       "      <th>2</th>\n",
       "      <td>3</td>\n",
       "      <td>60</td>\n",
       "      <td>RL</td>\n",
       "      <td>68.0</td>\n",
       "      <td>11250</td>\n",
       "      <td>Pave</td>\n",
       "      <td>NaN</td>\n",
       "      <td>IR1</td>\n",
       "      <td>Lvl</td>\n",
       "      <td>AllPub</td>\n",
       "      <td>...</td>\n",
       "      <td>0</td>\n",
       "      <td>NaN</td>\n",
       "      <td>NaN</td>\n",
       "      <td>NaN</td>\n",
       "      <td>0</td>\n",
       "      <td>9</td>\n",
       "      <td>2008</td>\n",
       "      <td>WD</td>\n",
       "      <td>Normal</td>\n",
       "      <td>223500</td>\n",
       "    </tr>\n",
       "    <tr>\n",
       "      <th>3</th>\n",
       "      <td>4</td>\n",
       "      <td>70</td>\n",
       "      <td>RL</td>\n",
       "      <td>60.0</td>\n",
       "      <td>9550</td>\n",
       "      <td>Pave</td>\n",
       "      <td>NaN</td>\n",
       "      <td>IR1</td>\n",
       "      <td>Lvl</td>\n",
       "      <td>AllPub</td>\n",
       "      <td>...</td>\n",
       "      <td>0</td>\n",
       "      <td>NaN</td>\n",
       "      <td>NaN</td>\n",
       "      <td>NaN</td>\n",
       "      <td>0</td>\n",
       "      <td>2</td>\n",
       "      <td>2006</td>\n",
       "      <td>WD</td>\n",
       "      <td>Abnorml</td>\n",
       "      <td>140000</td>\n",
       "    </tr>\n",
       "    <tr>\n",
       "      <th>4</th>\n",
       "      <td>5</td>\n",
       "      <td>60</td>\n",
       "      <td>RL</td>\n",
       "      <td>84.0</td>\n",
       "      <td>14260</td>\n",
       "      <td>Pave</td>\n",
       "      <td>NaN</td>\n",
       "      <td>IR1</td>\n",
       "      <td>Lvl</td>\n",
       "      <td>AllPub</td>\n",
       "      <td>...</td>\n",
       "      <td>0</td>\n",
       "      <td>NaN</td>\n",
       "      <td>NaN</td>\n",
       "      <td>NaN</td>\n",
       "      <td>0</td>\n",
       "      <td>12</td>\n",
       "      <td>2008</td>\n",
       "      <td>WD</td>\n",
       "      <td>Normal</td>\n",
       "      <td>250000</td>\n",
       "    </tr>\n",
       "  </tbody>\n",
       "</table>\n",
       "<p>5 rows × 81 columns</p>\n",
       "</div>"
      ],
      "text/plain": [
       "   Id  MSSubClass MSZoning  LotFrontage  LotArea Street Alley LotShape  \\\n",
       "0   1          60       RL         65.0     8450   Pave   NaN      Reg   \n",
       "1   2          20       RL         80.0     9600   Pave   NaN      Reg   \n",
       "2   3          60       RL         68.0    11250   Pave   NaN      IR1   \n",
       "3   4          70       RL         60.0     9550   Pave   NaN      IR1   \n",
       "4   5          60       RL         84.0    14260   Pave   NaN      IR1   \n",
       "\n",
       "  LandContour Utilities  ... PoolArea PoolQC Fence MiscFeature MiscVal MoSold  \\\n",
       "0         Lvl    AllPub  ...        0    NaN   NaN         NaN       0      2   \n",
       "1         Lvl    AllPub  ...        0    NaN   NaN         NaN       0      5   \n",
       "2         Lvl    AllPub  ...        0    NaN   NaN         NaN       0      9   \n",
       "3         Lvl    AllPub  ...        0    NaN   NaN         NaN       0      2   \n",
       "4         Lvl    AllPub  ...        0    NaN   NaN         NaN       0     12   \n",
       "\n",
       "  YrSold  SaleType  SaleCondition  SalePrice  \n",
       "0   2008        WD         Normal     208500  \n",
       "1   2007        WD         Normal     181500  \n",
       "2   2008        WD         Normal     223500  \n",
       "3   2006        WD        Abnorml     140000  \n",
       "4   2008        WD         Normal     250000  \n",
       "\n",
       "[5 rows x 81 columns]"
      ]
     },
     "execution_count": 6,
     "metadata": {},
     "output_type": "execute_result"
    }
   ],
   "source": [
    "#visualize the normal data\n",
    "traing_data.head()"
   ]
  },
  {
   "cell_type": "code",
   "execution_count": 33,
   "id": "38533548-9ac9-4c31-acc6-84e013dad50c",
   "metadata": {},
   "outputs": [
    {
     "data": {
      "text/plain": [
       "array([[<AxesSubplot:title={'center':'LotArea'}>]], dtype=object)"
      ]
     },
     "execution_count": 33,
     "metadata": {},
     "output_type": "execute_result"
    },
    {
     "data": {
      "image/png": "[encoded data removed]",
      "text/plain": [
       "<Figure size 432x288 with 1 Axes>"
      ]
     },
     "metadata": {
      "needs_background": "light"
     },
     "output_type": "display_data"
    }
   ],
   "source": [
    "training_LotArea = traing_data.pivot_table(index= \"Id\", values= \"LotArea\")\n",
    "training_LotArea.hist()"
   ]
  },
  {
   "cell_type": "code",
   "execution_count": 32,
   "id": "5b9d92c4-df40-42f8-88c5-152973915d57",
   "metadata": {},
   "outputs": [
    {
     "data": {
      "text/plain": [
       "array([[<AxesSubplot:title={'center':'MoSold'}>]], dtype=object)"
      ]
     },
     "execution_count": 32,
     "metadata": {},
     "output_type": "execute_result"
    },
    {
     "data": {
      "image/png": "[encoded data removed]",
      "text/plain": [
       "<Figure size 432x288 with 1 Axes>"
      ]
     },
     "metadata": {
      "needs_background": "light"
     },
     "output_type": "display_data"
    }
   ],
   "source": [
    "training_MoSold = traing_data.pivot_table(index= \"Id\", values= \"MoSold\")\n",
    "training_MoSold.hist()"
   ]
  },
  {
   "cell_type": "code",
   "execution_count": 74,
   "id": "9a0f53f7-7064-454e-8af4-eb28b667e648",
   "metadata": {},
   "outputs": [],
   "source": [
    "training_price = traing_data.pivot_table(index= \"Id\", values= \"SalePrice\")"
   ]
  },
  {
   "cell_type": "code",
   "execution_count": 75,
   "id": "c99895fb-e8af-4096-bc07-a9438d01f0b3",
   "metadata": {},
   "outputs": [
    {
     "data": {
      "text/plain": [
       "array([[<AxesSubplot:title={'center':'SalePrice'}>]], dtype=object)"
      ]
     },
     "execution_count": 75,
     "metadata": {},
     "output_type": "execute_result"
    },
    {
     "data": {
      "image/png": "[encoded data removed]",
      "text/plain": [
       "<Figure size 432x288 with 1 Axes>"
      ]
     },
     "metadata": {
      "needs_background": "light"
     },
     "output_type": "display_data"
    }
   ],
   "source": [
    "training_price.hist()"
   ]
  },
  {
   "cell_type": "markdown",
   "id": "d8e43d3e-7ff5-4579-bb72-218339d95ab4",
   "metadata": {},
   "source": [
    "# Transformaciones lineales"
   ]
  },
  {
   "cell_type": "markdown",
   "id": "693fdca5-5674-4321-b544-e31cc7d76265",
   "metadata": {
    "tags": []
   },
   "source": [
    "### escalamiento max-min"
   ]
  },
  {
   "cell_type": "code",
   "execution_count": 58,
   "id": "4ab687d5-1828-47f8-95a5-95bce8095c94",
   "metadata": {},
   "outputs": [],
   "source": [
    "MoSold_value = traing_data.MoSold\n",
    "max_raw = max(MoSold_value)\n",
    "min_raw = min(MoSold_value)\n",
    "scaled = (2*MoSold_value - max_raw -min_raw)/(max_raw - min_raw)"
   ]
  },
  {
   "cell_type": "markdown",
   "id": "0bc1e399-a458-4dec-baa3-fa5a9865d739",
   "metadata": {},
   "source": [
    "### normalización Z-score"
   ]
  },
  {
   "cell_type": "code",
   "execution_count": 66,
   "id": "102f71cd-fcf9-43e8-a0bc-5e9fd9b4831a",
   "metadata": {},
   "outputs": [],
   "source": [
    "avg = np.average(MoSold_value)\n",
    "std = np.std(MoSold_value)\n",
    "z_scaled = (MoSold_value - avg)/std"
   ]
  },
  {
   "cell_type": "code",
   "execution_count": 73,
   "id": "c517e9ff-fc00-4f88-bab0-d14fa2c75e8e",
   "metadata": {},
   "outputs": [
    {
     "data": {
      "text/plain": [
       "(array([110., 106., 141., 204., 253., 234., 122.,  63.,  89., 138.]),\n",
       " array([-1.96911145, -1.56211106, -1.15511068, -0.7481103 , -0.34110991,\n",
       "         0.06589047,  0.47289086,  0.87989124,  1.28689163,  1.69389201,\n",
       "         2.10089239]),\n",
       " <BarContainer object of 10 artists>)"
      ]
     },
     "execution_count": 73,
     "metadata": {},
     "output_type": "execute_result"
    },
    {
     "data": {
      "image/png": "[encoded data removed]",
      "text/plain": [
       "<Figure size 432x288 with 3 Axes>"
      ]
     },
     "metadata": {
      "needs_background": "light"
     },
     "output_type": "display_data"
    }
   ],
   "source": [
    "fig, axs = plt.subplots(3, 1, sharex=True, tight_layout=True)\n",
    "\n",
    "axs[0].hist(training_MoSold, color= 'orange')\n",
    "axs[1].hist(scaled, color= 'red')\n",
    "axs[2].hist(z_scaled, color= 'red')\n"
   ]
  },
  {
   "cell_type": "code",
   "execution_count": 45,
   "id": "a6af8384-62e2-4a37-8624-85bede6d0930",
   "metadata": {},
   "outputs": [
    {
     "data": {
      "text/plain": [
       "(array([32., 66., 98., 90., 64., 50., 23., 12.,  5.,  2.]),\n",
       " array([-1.89792941, -1.34956464, -0.80119987, -0.2528351 ,  0.29552967,\n",
       "         0.84389444,  1.39225921,  1.94062398,  2.48898875,  3.03735352,\n",
       "         3.58571828]),\n",
       " <BarContainer object of 10 artists>)"
      ]
     },
     "execution_count": 45,
     "metadata": {},
     "output_type": "execute_result"
    },
    {
     "data": {
      "image/png": "[encoded data removed]",
      "text/plain": [
       "<Figure size 432x288 with 3 Axes>"
      ]
     },
     "metadata": {
      "needs_background": "light"
     },
     "output_type": "display_data"
    }
   ],
   "source": [
    "# escalamiento max-min\n",
    "max_raw = max(raw.)\n",
    "min_raw = min(raw)\n",
    "scaled = (2*raw - max_raw -min_raw)/(max_raw - min_raw)\n",
    "\n",
    "# normalización Z-score\n",
    "\n",
    "avg = np.average(raw)\n",
    "std = np.std(raw)\n",
    "z_scaled = (raw - avg)/std\n",
    "\n",
    "fig, axs = plt.subplots(3, 1, sharex=True, tight_layout=True)\n",
    "\n",
    "# datos originales\n",
    "axs[0].hist(raw)\n",
    "# datos escalados\n",
    "axs[1].hist(scaled)\n",
    "# normalización Z-score\n",
    "\n",
    "axs[2].hist(z_scaled)"
   ]
  },
  {
   "cell_type": "code",
   "execution_count": 46,
   "id": "583f8cc4-ef83-461f-8697-2c7fc0925d0b",
   "metadata": {},
   "outputs": [],
   "source": [
    "# modelos para entrenamiento\n",
    "def train_raw():\n",
    "    #linear_model es importada de  sklearn para el entrenamiento del modelo\n",
    "    linear_model.LinearRegression().fit(raw, y)\n",
    "\n",
    "def train_scaled():\n",
    "    linear_model.LinearRegression().fit(scaled, y)\n",
    "\n",
    "def train_z_scaled():\n",
    "    linear_model.LinearRegression().fit(z_scaled, y)"
   ]
  },
  {
   "cell_type": "code",
   "execution_count": 48,
   "id": "ea772d64-e732-43c9-8eb8-3961baebd19b",
   "metadata": {},
   "outputs": [
    {
     "name": "stdout",
     "output_type": "stream",
     "text": [
      "trainning time for raw data : 0.03201800000010735 \n",
      "trainning time for scaled data : 0.02440200000000914\n",
      "trainning time for z_scaled data : 0.02585300000009738\n"
     ]
    }
   ],
   "source": [
    "#tiempos de ejecucion de cada modelo\n",
    "raw_time = tm.timeit(train_raw, number = 100)\n",
    "scaled_time = tm.timeit(train_raw, number = 100)\n",
    "z_scaled_time = tm.timeit(train_raw, number = 100)\n",
    "#{} this allows to print asometing from oud side so works as a variable and then use format()\n",
    "print('trainning time for raw data : {} '.format(raw_time))\n",
    "print('trainning time for scaled data : {}'.format(scaled_time))\n",
    "print('trainning time for z_scaled data : {}'.format(z_scaled_time))"
   ]
  },
  {
   "cell_type": "markdown",
   "id": "f3611546-06c1-4278-a1e3-ebf6e9b8531b",
   "metadata": {},
   "source": [
    "-- max-min scaling: mejor para datos uniformemente distribuidos --------\n",
    "-- z-score scaling: mejor para datos distribuidos \"normalmente\" (forma de campana de gauss)"
   ]
  },
  {
   "cell_type": "markdown",
   "id": "d839e768-dcef-4fe6-a719-84617b6d4d2a",
   "metadata": {},
   "source": [
    "# Transformaciones no lineales"
   ]
  },
  {
   "cell_type": "code",
   "execution_count": 91,
   "id": "d2c2e5a0-bf67-4e52-b285-e947b608d7f7",
   "metadata": {},
   "outputs": [
    {
     "data": {
      "text/plain": [
       "array([[<AxesSubplot:title={'center':'SalePrice'}>]], dtype=object)"
      ]
     },
     "execution_count": 91,
     "metadata": {},
     "output_type": "execute_result"
    },
    {
     "data": {
      "image/png": "[encoded data removed]",
      "text/plain": [
       "<Figure size 432x288 with 1 Axes>"
      ]
     },
     "metadata": {
      "needs_background": "light"
     },
     "output_type": "display_data"
    }
   ],
   "source": [
    "training_price.hist()"
   ]
  },
  {
   "cell_type": "code",
   "execution_count": 92,
   "id": "3eada140-60b2-41e6-aa88-bbb46031f4ce",
   "metadata": {},
   "outputs": [
    {
     "data": {
      "text/plain": [
       "(array([ 28., 245., 487., 339., 186.,  99.,  44.,  21.,   7.,   4.]),\n",
       " array([0.06968686, 0.15341208, 0.2371373 , 0.32086252, 0.40458774,\n",
       "        0.48831296, 0.57203818, 0.65576339, 0.73948861, 0.82321383,\n",
       "        0.90693905]),\n",
       " <BarContainer object of 10 artists>)"
      ]
     },
     "execution_count": 92,
     "metadata": {},
     "output_type": "execute_result"
    },
    {
     "data": {
      "image/png": "[encoded data removed]",
      "text/plain": [
       "<Figure size 432x288 with 3 Axes>"
      ]
     },
     "metadata": {
      "needs_background": "light"
     },
     "output_type": "display_data"
    }
   ],
   "source": [
    "p = 500000\n",
    "\n",
    "fig, axs = plt.subplots(3, 1, sharex=True, tight_layout=True)\n",
    "\n",
    "\n",
    "f_tanh = training_price.apply(lambda x: np.tanh(x/p))\n",
    "\n",
    "axs[0].hist(f_tanh, color= 'red')\n",
    "#axs[2].hist(f_tanh, color= 'orange')\n"
   ]
  }
 ],
 "metadata": {
  "kernelspec": {
   "display_name": "Python 3 (ipykernel)",
   "language": "python",
   "name": "python3"
  },
  "language_info": {
   "codemirror_mode": {
    "name": "ipython",
    "version": 3
   },
   "file_extension": ".py",
   "mimetype": "text/x-python",
   "name": "python",
   "nbconvert_exporter": "python",
   "pygments_lexer": "ipython3",
   "version": "3.9.7"
  }
 },
 "nbformat": 4,
 "nbformat_minor": 5
}
